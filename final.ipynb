{
  "nbformat": 4,
  "nbformat_minor": 0,
  "metadata": {
    "colab": {
      "name": "final.ipynb",
      "provenance": [],
      "mount_file_id": "1KQq0xQq_vq0lrogaxHM3H8F26gAtIHW-",
      "authorship_tag": "ABX9TyNOLl+rL0D03ZC92ryofRQg",
      "include_colab_link": true
    },
    "kernelspec": {
      "name": "python3",
      "display_name": "Python 3"
    },
    "language_info": {
      "name": "python"
    }
  },
  "cells": [
    {
      "cell_type": "markdown",
      "metadata": {
        "id": "view-in-github",
        "colab_type": "text"
      },
      "source": [
        "<a href=\"https://colab.research.google.com/github/emelkayan/hu-bby162-2021/blob/hu-bby162-2021/final.ipynb\" target=\"_parent\"><img src=\"https://colab.research.google.com/assets/colab-badge.svg\" alt=\"Open In Colab\"/></a>"
      ]
    },
    {
      "cell_type": "code",
      "metadata": {
        "colab": {
          "base_uri": "https://localhost:8080/"
        },
        "id": "VurKWNGLuJHM",
        "outputId": "30cc82c2-8cea-49ac-886e-3f407a6c8335"
      },
      "source": [
        "dosya =  \"/content/drive/MyDrive/final.txt\"\n",
        "def eserListesi():\n",
        "  dosya =  \"/content/drive/MyDrive/final.txt\"\n",
        "  f = open(dosya, \"r\") \n",
        "\n",
        "  for line in f.readlines():\n",
        "      print(line)\n",
        "\n",
        "  f.close()\n",
        "\n",
        "\n",
        "\n",
        "def eserKaydet():\n",
        "  ad = input(\" Eser adı giriniz: \")\n",
        "  yazar = input(\" Yazar adı giriniz: \")\n",
        "  yayın = input(\" Yayınevi giriniz: \")\n",
        "  basım = input(\" Basım tarihi giriniz: \")\n",
        "  Isbn = input(\" ISBN numarası giriniz: \")\n",
        "\n",
        "  dosya = \"/content/drive/MyDrive/final.txt\"\n",
        "  f = open(dosya, 'a') \n",
        "  f.write(ad+ \",\" +yazar+ \".\" +yayın+ \",\" +basım+ \",\" +Isbn+ \"\\n\")\n",
        "  f.close()\n",
        "\n",
        "  \n",
        "\n",
        "def menu():\n",
        "  print(\" * Kütüphane Bilgi Sistemi *\")\n",
        "  while True:\n",
        "    print(\" 1- çıkış yap.\")\n",
        "    print(\" 2- Eser görüntüle\")\n",
        "    print(\" 3- Eser kaydet\")\n",
        "    islem = input(\" Yapmak istediğiniz işlemi seçiniz (1/3): \")\n",
        "    if islem == \"1\":\n",
        "      print(\" Çıkış yapıldı\")\n",
        "      break\n",
        "    elif islem == \"2\":\n",
        "      eserListesi()\n",
        "    elif islem == \"3\":\n",
        "      eserKaydet()\n",
        "      \n",
        "menu()"
      ],
      "execution_count": 7,
      "outputs": [
        {
          "output_type": "stream",
          "text": [
            " * Kütüphane Bilgi Sistemi *\n",
            " 1- çıkış yap.\n",
            " 2- Eser görüntüle\n",
            " 3- Eser kaydet\n",
            " Yapmak istediğiniz işlemi seçiniz (1/3): 2\n",
            "Lev İnsan Ne İle Yaşar, Lev Tolstoy, Cem Yayınevi, 2018, 9786058132955\n",
            "\n",
            "Vazgeçtim, Kahraman Tazeoğlu, Destek Yayınları, 2015, 9786059913553\n",
            "\n",
            "Gerçek Mucize Kendine İnanmaktır, Ethem Emin Nemutlu, Olimpos Yayınları, 2019, 9786057906724\n",
            "\n",
            "Beyaz Zambaklar Ülkesinde, Grigory Petrov, Dorlion Yayınları, 2019, 9789752474925\n",
            "\n",
            "Bir Küçük Osmancık Vardı, Hasan Nail Canat, Timaş Yayınları, 2018, 9752631991\n",
            "\n",
            "Matilda, Roald Dahl, Can Sanat Yayınları, 2007, 9789750707810\n",
            "\n",
            " 1- çıkış yap.\n",
            " 2- Eser görüntüle\n",
            " 3- Eser kaydet\n",
            " Yapmak istediğiniz işlemi seçiniz (1/3): 1\n",
            " Çıkış yapıldı\n"
          ],
          "name": "stdout"
        }
      ]
    }
  ]
}