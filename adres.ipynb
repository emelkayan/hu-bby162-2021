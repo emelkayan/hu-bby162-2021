{
  "nbformat": 4,
  "nbformat_minor": 0,
  "metadata": {
    "colab": {
      "name": "adres.ipynb",
      "provenance": [],
      "mount_file_id": "1OtFZ2Ct7JgT3FOs_DqQ97HL0xe0gda0Q",
      "authorship_tag": "ABX9TyO5Cw7fDrWRxzzv66R11W3m",
      "include_colab_link": true
    },
    "kernelspec": {
      "name": "python3",
      "display_name": "Python 3"
    },
    "language_info": {
      "name": "python"
    }
  },
  "cells": [
    {
      "cell_type": "markdown",
      "metadata": {
        "id": "view-in-github",
        "colab_type": "text"
      },
      "source": [
        "<a href=\"https://colab.research.google.com/github/emelkayan/hu-bby162-2021/blob/hu-bby162-2021/adres.ipynb\" target=\"_parent\"><img src=\"https://colab.research.google.com/assets/colab-badge.svg\" alt=\"Open In Colab\"/></a>"
      ]
    },
    {
      "cell_type": "code",
      "metadata": {
        "colab": {
          "base_uri": "https://localhost:8080/"
        },
        "id": "x_JTNhQTrmI-",
        "outputId": "d0f96c49-3247-43ba-de1c-c6289f7f8bed"
      },
      "source": [
        "adres = \"/content/drive/MyDrive/HU-BBY162-2021/adres.txt\"\n",
        "\n",
        "f = open(adres, \"a\") \n",
        "\n",
        "BirinciBilgi = input(\"Ad: \") \n",
        "İkinciBilgi = input(\"Soyadı: \") \n",
        "ÜçüncüBilgi = input(\"e-Posta: \") \n",
        "\n",
        "f.write(BirinciBilgi+ \" \" + İkinciBilgi+ \" \" + ÜçüncüBilgi+ \" \" + \"\\n\") \n",
        "\n",
        "f.close() \n",
        "\n",
        "f = open(adres, \"r\") \n",
        "for line in f.readlines(): \n",
        "    print(line) \n",
        "f.close()\n"
      ],
      "execution_count": 3,
      "outputs": [
        {
          "output_type": "stream",
          "text": [
            "Ad: Emel\n",
            "Soyadı: Kayan\n",
            "e-Posta: Ekayan0699@gmail.com\n",
            "Emel Kayan \n",
            "\n",
            "Ekayan0699@gmail.com Emel Kayan Ekayan0699@gmail.com \n",
            "\n"
          ],
          "name": "stdout"
        }
      ]
    }
  ]
}